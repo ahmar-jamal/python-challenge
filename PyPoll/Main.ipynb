{
 "cells": [
  {
   "cell_type": "code",
   "execution_count": 1,
   "metadata": {},
   "outputs": [],
   "source": [
    "import os\n",
    "import csv\n"
   ]
  },
  {
   "cell_type": "code",
   "execution_count": 6,
   "metadata": {},
   "outputs": [
    {
     "name": "stdout",
     "output_type": "stream",
     "text": [
      "Election Results\n",
      "-----------------------------\n",
      "Total Votes: 3521001\n",
      "-----------------------------\n",
      "Khan: 63.0% (2218231)\n",
      "Correy: 20.0% (704200)\n",
      "Li: 14.0% (492940)\n",
      "O'Tooley: 3.0% (105630)\n",
      "-----------------------------\n",
      "Winner: Khan\n",
      "-----------------------------\n"
     ]
    }
   ],
   "source": [
    "file_path = os.path.join(\"Resources\",\"election_data.csv\")\n",
    "\n",
    "with open(file_path, \"r\", newline = \"\") as csv_file:\n",
    "    csv_reader = csv.reader(csv_file, delimiter = \",\")\n",
    "    \n",
    "    #Remove header record\n",
    "    header = next(csv_reader)\n",
    "    \n",
    "    #Define Variables and Counters\n",
    "    total_votes = 0\n",
    "    \n",
    "    total_khan = 0\n",
    "    total_correy = 0\n",
    "    total_li = 0\n",
    "    total_tooley = 0\n",
    "    \n",
    "    #Calculate Totals\n",
    "    for row in csv_reader:\n",
    "        total_votes += 1\n",
    "        \n",
    "        if row[2] == \"Khan\":\n",
    "            total_khan += 1\n",
    "        if row[2] == \"Correy\":\n",
    "            total_correy += 1\n",
    "        if row[2] == \"Li\":\n",
    "            total_li += 1\n",
    "        if row[2] == \"O'Tooley\":\n",
    "            total_tooley += 1\n",
    "            \n",
    "    #Calculate percentat wins\n",
    "    khan_perc = round(((total_khan/total_votes)*100), 3)\n",
    "    correy_perc = round(((total_correy/total_votes)*100), 3)\n",
    "    li_perc = round(((total_li/total_votes)*100), 3)\n",
    "    tooley_perc = round(((total_tooley/total_votes)*100), 3)\n",
    "    \n",
    "    #Set a winner as a counter logic\n",
    "    winner = \"Tooley\"\n",
    "    win_votes = total_tooley\n",
    "    \n",
    "    #Identify Winner\n",
    "    if total_khan > win_votes:\n",
    "        winner = \"Khan\"\n",
    "        win_votes = total_khan\n",
    "    if total_li > win_votes:\n",
    "        winner = \"Li\"\n",
    "        win_votes = total_li\n",
    "    if total_correy > win_votes:\n",
    "        winner = \"Correy\"\n",
    "        win_votes = total_correy\n",
    "        \n",
    "    \n",
    "            \n",
    "    print(\"Election Results\")\n",
    "    print(\"-----------------------------\")\n",
    "    print(f\"Total Votes: {total_votes}\")\n",
    "    print(\"-----------------------------\")\n",
    "    print(f\"Khan: {khan_perc}% ({total_khan})\")\n",
    "    print(f\"Correy: {correy_perc}% ({total_correy})\")\n",
    "    print(f\"Li: {li_perc}% ({total_li})\")\n",
    "    print(f\"O'Tooley: {tooley_perc}% ({total_tooley})\")\n",
    "    print(\"-----------------------------\")\n",
    "    print(f\"Winner: {winner}\")\n",
    "    print(\"-----------------------------\")\n",
    "    \n",
    "    \n",
    "output_path = os.path.join(\"Resources\",\"output.txt\")\n",
    "with open (output_path, \"w\", newline = \"\\n\") as out_file:\n",
    "    \n",
    "    out_file.write(\"Election Results\\n\")\n",
    "    out_file.write(\"-----------------------------\\n\")\n",
    "    out_file.write(\"Total Votes: \" + str(total_votes) + \"\\n\")\n",
    "    out_file.write(\"-----------------------------\\n\")\n",
    "    out_file.write(\"Khan: \" + str(khan_perc) + \"%\" + \" (\" + str(total_khan) + \")\\n\")\n",
    "    out_file.write(\"Correy: \" + str(correy_perc) + \"%\" + \" (\" + str(total_correy) + \")\\n\")\n",
    "    out_file.write(\"Li: \" + str(li_perc) + \"%\" + \" (\" + str(total_li) + \")\\n\")\n",
    "    out_file.write(\"O'Tooley: \" + str(tooley_perc) + \"%\" + \" (\" + str(total_tooley) + \")\\n\")\n",
    "    out_file.write(\"-----------------------------\\n\")\n",
    "    out_file.write(\"Winner: \" + winner + \"\\n\")\n",
    "    out_file.write(\"-----------------------------\\n\")\n",
    "    \n",
    "    \n"
   ]
  },
  {
   "cell_type": "code",
   "execution_count": null,
   "metadata": {},
   "outputs": [],
   "source": []
  }
 ],
 "metadata": {
  "kernelspec": {
   "display_name": "Conda [PythonData]",
   "language": "python",
   "name": "pythondata"
  },
  "language_info": {
   "codemirror_mode": {
    "name": "ipython",
    "version": 3
   },
   "file_extension": ".py",
   "mimetype": "text/x-python",
   "name": "python",
   "nbconvert_exporter": "python",
   "pygments_lexer": "ipython3",
   "version": "3.7.3"
  }
 },
 "nbformat": 4,
 "nbformat_minor": 2
}
